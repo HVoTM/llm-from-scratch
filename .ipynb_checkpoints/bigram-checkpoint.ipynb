{
 "cells": [
  {
   "cell_type": "markdown",
   "metadata": {},
   "source": [
    "# Getting started with training a transformer for a small batch of dataset\n",
    "\n",
    "## Working on Bigram language model\n",
    "In the Bigram Language Model, we find bigrams, which are two words coming together in the corpus(the entire collection of words/sentences)."
   ]
  },
  {
   "cell_type": "code",
   "execution_count": 1,
   "metadata": {},
   "outputs": [],
   "source": [
    "import torch"
   ]
  },
  {
   "cell_type": "code",
   "execution_count": 3,
   "metadata": {},
   "outputs": [
    {
     "name": "stdout",
     "output_type": "stream",
     "text": [
      "   BEYOND GOOD AND EVIL\n",
      "\n",
      "By Friedrich Nietzsche\n",
      "\n",
      "\n",
      "\n",
      "\n",
      "\n",
      "TABLE OF CONTENTS\n",
      "\n",
      "    PREFACE\n",
      "    BEYOND GOOD AND EVIL\n",
      "\n",
      "    CHAPTER I:    PREJUDICES OF PHILOSOPHERS\n",
      "    CHAPTER II:   THE FREE SPIRIT\n",
      "    CHAPTER\n"
     ]
    }
   ],
   "source": [
    "with open('nietzsche.txt', 'r', encoding='utf-8') as f:\n",
    "    text = f.read()\n",
    "# print(len(text))\n",
    "print(text[: 200])"
   ]
  },
  {
   "cell_type": "code",
   "execution_count": 5,
   "metadata": {},
   "outputs": [
    {
     "name": "stdout",
     "output_type": "stream",
     "text": [
      "['\\n', ' ', '!', '\"', \"'\", '(', ')', ',', '-', '.', '0', '1', '2', '3', '4', '5', '6', '7', '8', '9', ':', ';', '?', 'A', 'B', 'C', 'D', 'E', 'F', 'G', 'H', 'I', 'J', 'K', 'L', 'M', 'N', 'O', 'P', 'Q', 'R', 'S', 'T', 'U', 'V', 'W', 'X', 'Y', 'Z', '[', ']', '_', 'a', 'b', 'c', 'd', 'e', 'f', 'g', 'h', 'i', 'j', 'k', 'l', 'm', 'n', 'o', 'p', 'q', 'r', 's', 't', 'u', 'v', 'w', 'x', 'y', 'z']\n",
      "78\n"
     ]
    }
   ],
   "source": [
    "chars = sorted(set(text))\n",
    "print(chars)\n",
    "print(len(chars)) # to check the number of elements"
   ]
  },
  {
   "cell_type": "markdown",
   "metadata": {},
   "source": [
    "# Character-level tokenizer\n"
   ]
  },
  {
   "cell_type": "code",
   "execution_count": 6,
   "metadata": {},
   "outputs": [
    {
     "name": "stdout",
     "output_type": "stream",
     "text": [
      "tensor([ 1,  1,  1, 24, 27, 47, 37, 36, 26,  1, 29, 37, 37, 26,  1, 23, 36, 26,\n",
      "         1, 27, 44, 31, 34,  0,  0, 24, 76,  1, 28, 69, 60, 56, 55, 69, 60, 54,\n",
      "        59,  1, 36, 60, 56, 71, 77, 70, 54, 59, 56,  0,  0,  0,  0,  0,  0, 42,\n",
      "        23, 24, 34, 27,  1, 37, 28,  1, 25, 37, 36, 42, 27, 36, 42, 41,  0,  0,\n",
      "         1,  1,  1,  1, 38, 40, 27, 28, 23, 25, 27,  0,  1,  1,  1,  1, 24, 27,\n",
      "        47, 37, 36, 26,  1, 29, 37, 37, 26,  1])\n"
     ]
    }
   ],
   "source": [
    "string_to_int = { ch:i for i,ch in enumerate(chars)}\n",
    "int_to_string = { i:ch for i,ch in enumerate(chars)}\n",
    "encode = lambda s: [string_to_int[c] for c in s] # encoder to convert the strings into integers\n",
    "decode = lambda l: ''.join([int_to_string[i] for i in l]) # and vice versa\n",
    "\"\"\"\n",
    "# drive test\n",
    "encoded_text = encode('good morning')\n",
    "print(encode('good morning'))\n",
    "print('Decoding the back to the character format, we get:', decode(encoded_text))\n",
    "\"\"\"\n",
    "\n",
    "data = torch.tensor(encode(text), dtype=torch.long)\n",
    "print(data[: 100])"
   ]
  },
  {
   "cell_type": "markdown",
   "metadata": {},
   "source": [
    "# validation and train split\n",
    "Why we need to do validation and train split?\n"
   ]
  },
  {
   "cell_type": "code",
   "execution_count": null,
   "metadata": {},
   "outputs": [],
   "source": []
  }
 ],
 "metadata": {
  "kernelspec": {
   "display_name": "cuda-gpt-tester",
   "language": "python",
   "name": "cuda"
  },
  "language_info": {
   "codemirror_mode": {
    "name": "ipython",
    "version": 3
   },
   "file_extension": ".py",
   "mimetype": "text/x-python",
   "name": "python",
   "nbconvert_exporter": "python",
   "pygments_lexer": "ipython3",
   "version": "3.11.5"
  }
 },
 "nbformat": 4,
 "nbformat_minor": 2
}
